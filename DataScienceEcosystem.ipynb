{
 "cells": [
  {
   "cell_type": "markdown",
   "id": "f45779c6-68bc-454a-989f-745ed5d151cc",
   "metadata": {},
   "source": [
    "# __Data Science Tools and Ecosystem__"
   ]
  },
  {
   "cell_type": "markdown",
   "id": "5ef9202c-023f-4173-8bc7-aedc87dff056",
   "metadata": {},
   "source": [
    "\n",
    "_En este cuaderno, se resumen las herramientas y ecosistemas de ciencia de datos._"
   ]
  },
  {
   "cell_type": "markdown",
   "id": "c114f71b-4ce6-4051-ae1e-0106122ddcd0",
   "metadata": {},
   "source": [
    "__Objetivos:__\n",
    "\n",
    "- Lenguajes Populares utilizados\n",
    "- Bibliotecas mas comunes\n",
    "- Herramientas para Data Science\n",
    "- Ejemplos de expresiones aritméticas"
   ]
  },
  {
   "cell_type": "markdown",
   "id": "a7403208-3a08-4e49-8c54-b64f3add3971",
   "metadata": {},
   "source": [
    "##### __Algunos de los lenguajes populares que utilizan los científicos de datos son:__\n",
    "\n",
    "1. Python\n",
    "2. R\n",
    "3. SQL\n",
    "4. Julia\n",
    "5. Scala"
   ]
  },
  {
   "cell_type": "markdown",
   "id": "09cae91c-ea8e-4c30-ab1e-c5feb24cdda6",
   "metadata": {},
   "source": [
    "##### __Algunas de las bibliotecas comúnmente utilizadas por los científicos de datos incluyen:__\n",
    "\n",
    "1. Pandas\n",
    "2. NumPy\n",
    "3. Matplotlib"
   ]
  },
  {
   "cell_type": "markdown",
   "id": "583c4e65-ce5c-4d45-aa41-6a1c75d9d061",
   "metadata": {},
   "source": [
    "##### __Herramientas de Ciencia de Datos__\n",
    "\n",
    "|HERRAMIENTAS|\n",
    "|-------------|\n",
    "|VS Code|\n",
    "|Jupyter|\n",
    "|RStudio|"
   ]
  },
  {
   "cell_type": "markdown",
   "id": "2d7ae57b-3b89-4e53-866b-4383469614b3",
   "metadata": {},
   "source": [
    "### __A continuación, se presentan algunos ejemplos de evaluación de expresiones aritméticas en Python__"
   ]
  },
  {
   "cell_type": "code",
   "execution_count": 6,
   "id": "122c379f-a347-42a7-a161-40dbb010fff9",
   "metadata": {},
   "outputs": [
    {
     "data": {
      "text/plain": [
       "17"
      ]
     },
     "execution_count": 6,
     "metadata": {},
     "output_type": "execute_result"
    }
   ],
   "source": [
    "# Esta es una expresión aritmética simple para multiplicar y luego sumar enteros\n",
    "(3*4)+5"
   ]
  },
  {
   "cell_type": "code",
   "execution_count": 7,
   "id": "4b464856-acc9-4132-a7e2-7503bb6cec73",
   "metadata": {},
   "outputs": [
    {
     "data": {
      "text/plain": [
       "3.3333333333333335"
      ]
     },
     "execution_count": 7,
     "metadata": {},
     "output_type": "execute_result"
    }
   ],
   "source": [
    "# Esto convertirá 200 minutos a horas dividiendo por 60\n",
    "200/60"
   ]
  },
  {
   "cell_type": "markdown",
   "id": "d4b61ac0-686f-4b99-9044-591b6021a604",
   "metadata": {},
   "source": [
    "## Autor\n",
    "\n",
    "R Barrera"
   ]
  },
  {
   "cell_type": "code",
   "execution_count": null,
   "id": "0b20e177-0fd7-43c3-b2f1-c9589ad0d8a5",
   "metadata": {},
   "outputs": [],
   "source": []
  }
 ],
 "metadata": {
  "kernelspec": {
   "display_name": "Python 3 (ipykernel)",
   "language": "python",
   "name": "python3"
  },
  "language_info": {
   "codemirror_mode": {
    "name": "ipython",
    "version": 3
   },
   "file_extension": ".py",
   "mimetype": "text/x-python",
   "name": "python",
   "nbconvert_exporter": "python",
   "pygments_lexer": "ipython3",
   "version": "3.12.9"
  }
 },
 "nbformat": 4,
 "nbformat_minor": 5
}
